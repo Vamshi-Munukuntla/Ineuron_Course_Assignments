{
 "cells": [
  {
   "cell_type": "markdown",
   "id": "f9b7a0bc-e16f-428c-a8b0-0e674c5b550d",
   "metadata": {},
   "source": [
    "**1. In the below elements which of them are values or an expression? eg:- values can be integer or string and expressions will be mathematical operators.**\n"
   ]
  },
  {
   "cell_type": "code",
   "execution_count": 1,
   "id": "b1cc05b7-5f6f-45bd-8fbb-60de959ebee8",
   "metadata": {},
   "outputs": [],
   "source": [
    "# * - Expression\n",
    "# 'hello' - Value (String)\n",
    "# -87.8  - Value (Float)\n",
    "# - -> Expression\n",
    "# / -> Expression\n",
    "# + -> Expression\n",
    "# 6 -> Value (Integer)"
   ]
  },
  {
   "cell_type": "code",
   "execution_count": null,
   "id": "e5d998d6-c52b-4144-8f0c-e3b2d9f96176",
   "metadata": {},
   "outputs": [],
   "source": []
  },
  {
   "cell_type": "code",
   "execution_count": null,
   "id": "6deb8778-78f5-4b76-abc5-ee03cca9945a",
   "metadata": {},
   "outputs": [],
   "source": []
  },
  {
   "cell_type": "markdown",
   "id": "24990516-c1e7-470b-9c8f-d37dd68a7abd",
   "metadata": {},
   "source": [
    "**2. What is the difference between string and variable?**\n",
    "\n",
    "\n",
    "**Variable** - Variables are symbols that can be used to store the data in a program.\n",
    "\n",
    "It can be treated as a box in which we can store any information.\n",
    "\n",
    "**String** - Strings are data, that we can store in a variable.\n",
    "\n",
    "***Example*** - name = 'Vamshi'\n",
    "\n",
    "In the above example, \n",
    "* name - Variable\n",
    "* 'Vamshi' - String\n",
    "\n",
    "But there are rules on how to designate a variable.\n",
    "We cannot use numeric values at the start of the variable, we can add an underscore to avoid syntax error.\n",
    "\n",
    "Example: \n",
    "* 2_name is not allowed\n",
    "* _2_name is allowed"
   ]
  },
  {
   "cell_type": "code",
   "execution_count": null,
   "id": "9fdd17d2-64b2-41f1-b9e7-00b322847c5f",
   "metadata": {},
   "outputs": [],
   "source": []
  },
  {
   "cell_type": "code",
   "execution_count": null,
   "id": "f9d8a167-689e-4cb7-8d92-1265936e3f84",
   "metadata": {},
   "outputs": [],
   "source": []
  },
  {
   "cell_type": "markdown",
   "id": "81288127-90f7-468f-98c7-4980bc3c18ac",
   "metadata": {},
   "source": [
    "**3. Describe three different data types.**"
   ]
  },
  {
   "cell_type": "markdown",
   "id": "da857e90-f95e-4416-9113-524f7688eb00",
   "metadata": {},
   "source": [
    "A data type is a characteristic that tells the compiler how to use the data.\n",
    "\n",
    "The data type of any object is found using the built-in **type()** function. \n",
    "\n",
    "Three Common Data types are:\n",
    "\n",
    "* Integer\n",
    "* String\n",
    "* Boolean\n",
    "\n",
    "**Integer** - It is the most common numeric data type used to store numbers without a fractional component.\n",
    "\n",
    "Example:  85,-96,0\n",
    "\n",
    "**String** - It is a sequence of characters and it is used to store text data. \n",
    "Additionally, a string can also include digits and symbols, however, it is always treated as text. \n",
    "\n",
    "Example: \n",
    "1. Pincode: 547986\n",
    "2. Phone Number: (+91 8679526989)\n",
    "\n",
    "**Boolean** - \n",
    "It represents the values true and false.\n",
    "Sometimes, a boolean value is also represented as \n",
    "0 (for False) and 1 (for True)"
   ]
  },
  {
   "cell_type": "markdown",
   "id": "446d05e1-6dde-42b5-b800-fe4e0b8d867b",
   "metadata": {},
   "source": []
  },
  {
   "cell_type": "markdown",
   "id": "3252cf2c-5696-4781-9e71-3536d5aef677",
   "metadata": {},
   "source": []
  },
  {
   "cell_type": "markdown",
   "id": "e5508ce1-9f07-414e-be6a-515c1bc284f8",
   "metadata": {},
   "source": [
    "**4. What is an expression made up of? What do all expressions do?**"
   ]
  },
  {
   "cell_type": "markdown",
   "id": "2a25b1c7-7a9e-44e5-9453-463f0ae23170",
   "metadata": {},
   "source": [
    "- An expression is a combination of operators, constants and variables. \n",
    "- An expression may consist of one or more operands, and zero or more operators to produce a value.\n",
    "\n",
    "- All expressions evaluate to a single value."
   ]
  },
  {
   "cell_type": "code",
   "execution_count": null,
   "id": "36219bb4-38ef-4e3d-b09e-4b432e9d7cbc",
   "metadata": {},
   "outputs": [],
   "source": []
  },
  {
   "cell_type": "code",
   "execution_count": null,
   "id": "48d12f3c-cff3-4d86-beef-628083c03570",
   "metadata": {},
   "outputs": [],
   "source": []
  },
  {
   "cell_type": "markdown",
   "id": "06144d2d-f846-4526-922e-18b9047ea801",
   "metadata": {},
   "source": [
    "**5. This assignment statements, like spam = 10. What is the difference between an \n",
    "expression and a statement?**"
   ]
  },
  {
   "cell_type": "markdown",
   "id": "5dd075a0-06cd-4018-b01c-577db14bc6ff",
   "metadata": {},
   "source": [
    "An expression evaluates to a single value. A statement does not."
   ]
  },
  {
   "cell_type": "code",
   "execution_count": null,
   "id": "746d062b-e187-46c3-9f19-843261c5a539",
   "metadata": {},
   "outputs": [],
   "source": []
  },
  {
   "cell_type": "code",
   "execution_count": null,
   "id": "cef6b84a-90fc-4122-80b7-ee0e83fb1b17",
   "metadata": {},
   "outputs": [],
   "source": []
  },
  {
   "cell_type": "markdown",
   "id": "6a7fb262-2350-4560-bf34-7ad2cf772741",
   "metadata": {},
   "source": [
    "**6. After running the following code, what does the variable bacon contain?\n",
    "bacon = 22\n",
    "bacon + 1**"
   ]
  },
  {
   "cell_type": "code",
   "execution_count": 8,
   "id": "b731a59b-7f7d-497f-af8c-fcd9dde92047",
   "metadata": {},
   "outputs": [
    {
     "name": "stdout",
     "output_type": "stream",
     "text": [
      "23\n",
      "bacon=22\n"
     ]
    }
   ],
   "source": [
    "bacon = 22\n",
    "print(bacon+1)\n",
    "print(f'bacon={bacon}')\n"
   ]
  },
  {
   "cell_type": "markdown",
   "id": "28ac6401-4a4f-4dad-a34a-c4536d4480b1",
   "metadata": {},
   "source": [
    "Bacon is still 22 because we didn't assign `bacon+1` to bacon again. \n",
    "So, variable bacon isn't updated and it still holds same value we first assigned.\n"
   ]
  },
  {
   "cell_type": "code",
   "execution_count": null,
   "id": "895af632-b924-4c7d-99d9-b3df66e4daf9",
   "metadata": {},
   "outputs": [],
   "source": []
  },
  {
   "cell_type": "code",
   "execution_count": null,
   "id": "490af522-663b-40c7-bd8b-93f59b82afea",
   "metadata": {},
   "outputs": [],
   "source": []
  },
  {
   "cell_type": "markdown",
   "id": "db9c8f07-8855-4c71-9fca-8388c0e6b2f1",
   "metadata": {},
   "source": [
    "**7. What should the values of the following two terms be?\n",
    "'spam' + 'spamspam'\n",
    "'spam' * 3**"
   ]
  },
  {
   "cell_type": "code",
   "execution_count": 10,
   "id": "18c84417-e9f7-4d54-8bd6-0af0975d8e16",
   "metadata": {},
   "outputs": [
    {
     "data": {
      "text/plain": [
       "'spamspamspam'"
      ]
     },
     "execution_count": 10,
     "metadata": {},
     "output_type": "execute_result"
    }
   ],
   "source": [
    "'spam'+'spamspam'"
   ]
  },
  {
   "cell_type": "code",
   "execution_count": 11,
   "id": "4e631a94-582c-4b71-b237-4cb6cc55e1d9",
   "metadata": {},
   "outputs": [
    {
     "data": {
      "text/plain": [
       "'spamspamspam'"
      ]
     },
     "execution_count": 11,
     "metadata": {},
     "output_type": "execute_result"
    }
   ],
   "source": [
    "'spam'*3"
   ]
  },
  {
   "cell_type": "markdown",
   "id": "1dd23aae-a877-417e-b1df-a1f05258f538",
   "metadata": {},
   "source": [
    "Both the expressions give the same output."
   ]
  },
  {
   "cell_type": "code",
   "execution_count": null,
   "id": "1500f95e-7196-407e-8284-71cefd72275a",
   "metadata": {},
   "outputs": [],
   "source": []
  },
  {
   "cell_type": "code",
   "execution_count": null,
   "id": "2055fd7e-c805-4972-9e5e-38ba04da948f",
   "metadata": {},
   "outputs": [],
   "source": []
  },
  {
   "cell_type": "markdown",
   "id": "01a16058-4c64-4df6-af8c-eeda7f0929f8",
   "metadata": {},
   "source": [
    "**8. Why is eggs a valid variable name while 100 is invalid?**"
   ]
  },
  {
   "cell_type": "markdown",
   "id": "64890e76-fb6b-4bfe-b543-470960148542",
   "metadata": {},
   "source": [
    "There are certain rules on how to assign variable names in python.\n",
    "\n",
    "One of them is variable names cannot start with numeric values. \n",
    "It can contain numeric values, but certainly cannot start with it.\n",
    "\n",
    "100 as a variable name violates that rule. That is reason it is invalid."
   ]
  },
  {
   "cell_type": "code",
   "execution_count": null,
   "id": "ffd883d7-7646-437b-933f-dca79d543723",
   "metadata": {},
   "outputs": [],
   "source": []
  },
  {
   "cell_type": "code",
   "execution_count": null,
   "id": "43ee2192-69e8-418a-b22e-2c5372c05b7e",
   "metadata": {},
   "outputs": [],
   "source": []
  },
  {
   "cell_type": "markdown",
   "id": "a2461d25-5fb9-49d8-9398-bfa2ef4e7f4e",
   "metadata": {},
   "source": [
    "**9. What three functions can be used to get the integer, floating-point number, or string \n",
    "version of a value?**"
   ]
  },
  {
   "cell_type": "markdown",
   "id": "161ad8d3-289a-41e7-9203-b0d36849c8be",
   "metadata": {},
   "source": [
    "The `int()`, `float()` and `str()` functions will give the integer, floating-point and string version of the value as a resulting output."
   ]
  },
  {
   "cell_type": "code",
   "execution_count": 18,
   "id": "5143385b-cba8-4e4c-8b9f-ddd9db52497c",
   "metadata": {},
   "outputs": [
    {
     "name": "stdout",
     "output_type": "stream",
     "text": [
      "10 and type is <class 'int'>\n",
      "10.0 and type is <class 'float'>\n",
      "10 and type is <class 'str'>\n"
     ]
    }
   ],
   "source": [
    "number = 10\n",
    "\n",
    "print(f'{int(number)} and type is {type(int(number))}')\n",
    "print(f'{float(number)} and type is {type(float(number))}')\n",
    "print(f'{str(number)} and type is {type(str(number))}')"
   ]
  },
  {
   "cell_type": "code",
   "execution_count": null,
   "id": "c646bd47-2eb6-4fbe-a602-006fdd0d3ba2",
   "metadata": {},
   "outputs": [],
   "source": []
  },
  {
   "cell_type": "code",
   "execution_count": null,
   "id": "b1f95d4e-3ec5-4bff-941d-1a8f007c7b21",
   "metadata": {},
   "outputs": [],
   "source": []
  },
  {
   "cell_type": "markdown",
   "id": "5398ff7a-aca2-4c16-b758-84e39b0cfb72",
   "metadata": {},
   "source": [
    "**10. Why does this expression cause an error? How can you fix it?\n",
    "'I have eaten ' + 99 + ' burritos.**"
   ]
  },
  {
   "cell_type": "markdown",
   "id": "c7e3b41e-209f-4532-ba1f-9891ebcbb284",
   "metadata": {},
   "source": [
    "'I have eaten' + 99 + 'burritos'"
   ]
  },
  {
   "cell_type": "markdown",
   "id": "6f1f0ec1-7b5d-4595-9bb1-23c818dbf005",
   "metadata": {},
   "source": [
    "- This expressions results in error because 99 is an integer.\n",
    "\n",
    "- Strings can only be concatenated with other strings"
   ]
  },
  {
   "cell_type": "markdown",
   "id": "963cb288-c5dd-4753-82d0-035c699f7509",
   "metadata": {},
   "source": [
    "`Valid Expression:`"
   ]
  },
  {
   "cell_type": "code",
   "execution_count": 20,
   "id": "3452e073-156e-465e-bb96-7191d898d25b",
   "metadata": {},
   "outputs": [
    {
     "data": {
      "text/plain": [
       "'I have eaten 99 burritos'"
      ]
     },
     "execution_count": 20,
     "metadata": {},
     "output_type": "execute_result"
    }
   ],
   "source": [
    "'I have eaten ' + str(99) + ' burritos'"
   ]
  },
  {
   "cell_type": "code",
   "execution_count": 22,
   "id": "12e3b199-93bc-4f25-8c01-a387a3dfcf7d",
   "metadata": {},
   "outputs": [
    {
     "data": {
      "text/plain": [
       "'I have eaten 99 burritos'"
      ]
     },
     "execution_count": 22,
     "metadata": {},
     "output_type": "execute_result"
    }
   ],
   "source": [
    "f'I have eaten {99} burritos'"
   ]
  },
  {
   "cell_type": "code",
   "execution_count": null,
   "id": "6078e354-ee7d-4ea6-a2d0-008916224fc4",
   "metadata": {},
   "outputs": [],
   "source": []
  },
  {
   "cell_type": "code",
   "execution_count": null,
   "id": "83e8b3ee-c219-4620-b327-a25ef6cc5ea7",
   "metadata": {},
   "outputs": [],
   "source": []
  },
  {
   "cell_type": "code",
   "execution_count": null,
   "id": "01025018-1b33-4561-87b1-9903fa58d05f",
   "metadata": {},
   "outputs": [],
   "source": []
  }
 ],
 "metadata": {
  "kernelspec": {
   "display_name": "Python 3 (ipykernel)",
   "language": "python",
   "name": "python3"
  },
  "language_info": {
   "codemirror_mode": {
    "name": "ipython",
    "version": 3
   },
   "file_extension": ".py",
   "mimetype": "text/x-python",
   "name": "python",
   "nbconvert_exporter": "python",
   "pygments_lexer": "ipython3",
   "version": "3.9.12"
  }
 },
 "nbformat": 4,
 "nbformat_minor": 5
}

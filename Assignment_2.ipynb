{
 "cells": [
  {
   "cell_type": "markdown",
   "id": "efe409d6",
   "metadata": {},
   "source": [
    "# Python - Assignment 2 "
   ]
  },
  {
   "cell_type": "code",
   "execution_count": null,
   "id": "308ad201",
   "metadata": {},
   "outputs": [],
   "source": []
  },
  {
   "cell_type": "code",
   "execution_count": null,
   "id": "2c1bb746",
   "metadata": {},
   "outputs": [],
   "source": []
  },
  {
   "cell_type": "markdown",
   "id": "1e0bc531",
   "metadata": {},
   "source": [
    "**1.What are the two values of the Boolean data type? How do you write them?**"
   ]
  },
  {
   "cell_type": "markdown",
   "id": "948ab1d0",
   "metadata": {},
   "source": [
    "- `True` & `False`"
   ]
  },
  {
   "cell_type": "markdown",
   "id": "8c4c8d3e",
   "metadata": {},
   "source": [
    " - With T and F being the Uppercase letters, and rest of them lowercase letters."
   ]
  },
  {
   "cell_type": "code",
   "execution_count": null,
   "id": "a58a7f9b",
   "metadata": {},
   "outputs": [],
   "source": []
  },
  {
   "cell_type": "code",
   "execution_count": null,
   "id": "84e8a40f",
   "metadata": {},
   "outputs": [],
   "source": []
  },
  {
   "cell_type": "markdown",
   "id": "eab6ff86",
   "metadata": {},
   "source": [
    "**2. What are the three different types of Boolean operators?**"
   ]
  },
  {
   "cell_type": "markdown",
   "id": "14ee88bb",
   "metadata": {},
   "source": [
    "- and\n",
    "- or \n",
    "- not"
   ]
  },
  {
   "cell_type": "code",
   "execution_count": null,
   "id": "24bd211b",
   "metadata": {},
   "outputs": [],
   "source": []
  },
  {
   "cell_type": "code",
   "execution_count": null,
   "id": "02fff458",
   "metadata": {},
   "outputs": [],
   "source": []
  },
  {
   "cell_type": "markdown",
   "id": "9dbe4c18",
   "metadata": {},
   "source": [
    "**3. Make a list of each Boolean operator's truth tables (i.e. every possible combination of Boolean \n",
    "values for the operator and what it evaluate ).**\n"
   ]
  },
  {
   "cell_type": "markdown",
   "id": "deab9ea5",
   "metadata": {},
   "source": [
    "### and\n",
    "- True and True is True.\n",
    "- True and False is False.\n",
    "- False and True is False.\n",
    "- False and False is False.\n",
    "\n",
    "### or\n",
    "- True or True is True.\n",
    "- True or False is True.\n",
    "- False or True is True.\n",
    "- False or False is False.\n",
    "\n",
    "### not\n",
    "- not True is False.\n",
    "- not False is True.\n",
    "\n"
   ]
  },
  {
   "cell_type": "markdown",
   "id": "5572e8f7",
   "metadata": {},
   "source": [
    "**4. What are the values of the following expressions?**\n",
    "\n",
    "\n",
    "- (5 > 4) and (3 == 5)                =>  `False`\n",
    "\n",
    "- not (5 > 4)                         => `False`\n",
    "\n",
    "- (5 > 4) or (3 == 5)                 => `True`\n",
    "\n",
    "- not ((5 > 4) or (3 == 5))           => `False`\n",
    "\n",
    "- (True and True) and (True == False) => `False`\n",
    "\n",
    "- (not False) or (not True)           => `True`"
   ]
  },
  {
   "cell_type": "code",
   "execution_count": null,
   "id": "d8b40c87",
   "metadata": {},
   "outputs": [],
   "source": []
  },
  {
   "cell_type": "code",
   "execution_count": null,
   "id": "5aa9fc39",
   "metadata": {},
   "outputs": [],
   "source": []
  },
  {
   "cell_type": "markdown",
   "id": "a7b4c057",
   "metadata": {},
   "source": [
    "**5. What are the six comparison operators?**"
   ]
  },
  {
   "cell_type": "markdown",
   "id": "ecfc56aa",
   "metadata": {},
   "source": [
    "- `==` Equal to\n",
    "- `>=` Greater than or equal to\n",
    "- `<=` Less than or equal to\n",
    "- `>`  Greater than\n",
    "- `<`  Less than\n",
    "- `!=` Not Equal to"
   ]
  },
  {
   "cell_type": "code",
   "execution_count": null,
   "id": "6caaa28e",
   "metadata": {},
   "outputs": [],
   "source": []
  },
  {
   "cell_type": "code",
   "execution_count": null,
   "id": "ee68cd00",
   "metadata": {},
   "outputs": [],
   "source": []
  },
  {
   "cell_type": "markdown",
   "id": "a2f203b6",
   "metadata": {},
   "source": [
    "**6. How do you tell the difference between the equal to and assignment operators?Describe a \n",
    "condition and when you would use one**"
   ]
  },
  {
   "cell_type": "markdown",
   "id": "07a9f637",
   "metadata": {},
   "source": [
    "-  `=` is an assignment operator which stores a value in a variable.\n",
    "\n",
    "- `==` Compares two values and return a Boolean (True or False)"
   ]
  },
  {
   "cell_type": "code",
   "execution_count": null,
   "id": "39ef0477",
   "metadata": {},
   "outputs": [],
   "source": []
  },
  {
   "cell_type": "code",
   "execution_count": null,
   "id": "97941309",
   "metadata": {},
   "outputs": [],
   "source": []
  },
  {
   "cell_type": "markdown",
   "id": "cb058377",
   "metadata": {},
   "source": [
    "**7. Identify the three blocks in this code:**"
   ]
  },
  {
   "cell_type": "code",
   "execution_count": 4,
   "id": "338375b9",
   "metadata": {},
   "outputs": [
    {
     "name": "stdout",
     "output_type": "stream",
     "text": [
      "spam\n"
     ]
    }
   ],
   "source": [
    "spam = 0\n",
    "\n",
    "if spam == 10:\n",
    "    print('eggs')\n",
    "    if spam > 5:\n",
    "        print('bacon')\n",
    "    else:\n",
    "        print('ham')\n",
    "    print('spam')\n",
    "print('spam')"
   ]
  },
  {
   "cell_type": "markdown",
   "id": "eb13bbcb",
   "metadata": {},
   "source": [
    "A new block begins every time you increase the indentation of a line, and ends just before the corresponding unindent."
   ]
  },
  {
   "cell_type": "code",
   "execution_count": 5,
   "id": "1acd15ac",
   "metadata": {},
   "outputs": [
    {
     "name": "stdout",
     "output_type": "stream",
     "text": [
      "spam\n"
     ]
    }
   ],
   "source": [
    "spam = 0\n",
    "\n",
    "if spam == 10:\n",
    "    print('eggs')       # block 1\n",
    "    if spam > 5:\n",
    "        print('bacon')  # block 2\n",
    "    else:\n",
    "        print('ham')    # block 3\n",
    "    print('spam')\n",
    "print('spam')"
   ]
  },
  {
   "cell_type": "code",
   "execution_count": null,
   "id": "419935c1",
   "metadata": {},
   "outputs": [],
   "source": []
  },
  {
   "cell_type": "code",
   "execution_count": null,
   "id": "aca8dfce",
   "metadata": {},
   "outputs": [],
   "source": []
  },
  {
   "cell_type": "markdown",
   "id": "7681bce9",
   "metadata": {},
   "source": [
    "**8. Write code that prints Hello if 1 is stored in spam, prints Howdy if 2 is stored in spam, and prints \n",
    "Greetings! if anything else is stored in spam.**"
   ]
  },
  {
   "cell_type": "code",
   "execution_count": 6,
   "id": "ff7e64fb",
   "metadata": {},
   "outputs": [
    {
     "name": "stdout",
     "output_type": "stream",
     "text": [
      "Greetings!\n"
     ]
    }
   ],
   "source": [
    "if spam == 1:\n",
    "    print('Hello')\n",
    "elif spam == 2:\n",
    "    print('Howdy')\n",
    "else:\n",
    "    print('Greetings!')"
   ]
  },
  {
   "cell_type": "code",
   "execution_count": null,
   "id": "e237c731",
   "metadata": {},
   "outputs": [],
   "source": []
  },
  {
   "cell_type": "code",
   "execution_count": null,
   "id": "72f8d858",
   "metadata": {},
   "outputs": [],
   "source": []
  },
  {
   "cell_type": "markdown",
   "id": "b1f064d8",
   "metadata": {},
   "source": [
    "**9.If your programme is stuck in an endless loop, what keys you’ll press?**"
   ]
  },
  {
   "cell_type": "markdown",
   "id": "b42eabf4",
   "metadata": {},
   "source": [
    "`Ctrl+C` to stop the infinite loop."
   ]
  },
  {
   "cell_type": "code",
   "execution_count": null,
   "id": "08c351dc",
   "metadata": {},
   "outputs": [],
   "source": []
  },
  {
   "cell_type": "code",
   "execution_count": null,
   "id": "83a94710",
   "metadata": {},
   "outputs": [],
   "source": []
  },
  {
   "cell_type": "markdown",
   "id": "b47bd5fb",
   "metadata": {},
   "source": [
    "**10. How can you tell the difference between break and continue?**"
   ]
  },
  {
   "cell_type": "markdown",
   "id": "a7bdefb5",
   "metadata": {},
   "source": [
    "- `Break` statement will exit the loop. \n",
    "- `Continue` statement will stop the current iteration and will proceed to the next iteration."
   ]
  },
  {
   "cell_type": "code",
   "execution_count": null,
   "id": "efbbb7b7",
   "metadata": {},
   "outputs": [],
   "source": []
  },
  {
   "cell_type": "code",
   "execution_count": null,
   "id": "5bc88bf6",
   "metadata": {},
   "outputs": [],
   "source": []
  },
  {
   "cell_type": "markdown",
   "id": "dba43fce",
   "metadata": {},
   "source": [
    "**11. In a for loop, what is the difference between range(10), range(0, 10), and range(0, 10, 1)?**"
   ]
  },
  {
   "cell_type": "code",
   "execution_count": 11,
   "id": "d6d824ed",
   "metadata": {},
   "outputs": [
    {
     "name": "stdout",
     "output_type": "stream",
     "text": [
      "[0, 1, 2, 3, 4, 5, 6, 7, 8, 9]\n"
     ]
    }
   ],
   "source": [
    "a =[]\n",
    "for i in range(10):\n",
    "    a.append(i)\n",
    "print(a)"
   ]
  },
  {
   "cell_type": "code",
   "execution_count": 12,
   "id": "c39f3cb6",
   "metadata": {},
   "outputs": [
    {
     "name": "stdout",
     "output_type": "stream",
     "text": [
      "[0, 1, 2, 3, 4, 5, 6, 7, 8, 9]\n"
     ]
    }
   ],
   "source": [
    "a =[]\n",
    "for i in range(0,10):\n",
    "    a.append(i)\n",
    "print(a)"
   ]
  },
  {
   "cell_type": "code",
   "execution_count": 13,
   "id": "f7bda35c",
   "metadata": {},
   "outputs": [
    {
     "name": "stdout",
     "output_type": "stream",
     "text": [
      "[0, 1, 2, 3, 4, 5, 6, 7, 8, 9]\n"
     ]
    }
   ],
   "source": [
    "a =[]\n",
    "for i in range(0,10,1):\n",
    "    a.append(i)\n",
    "print(a)"
   ]
  },
  {
   "cell_type": "markdown",
   "id": "c6373450",
   "metadata": {},
   "source": [
    "They all do the same thing."
   ]
  },
  {
   "cell_type": "markdown",
   "id": "33f320ec",
   "metadata": {},
   "source": [
    "- range(10) => by default it call ranges from 0 to 10( but not includeing the last value)\n",
    "\n",
    "\n",
    "- range(0,10) => we are explicitly defining the start and end values for the range.\n",
    "\n",
    "\n",
    "- range(0,10,1) => We are again explicitly telling to increment by 1 value( which is also the default value.)"
   ]
  },
  {
   "cell_type": "code",
   "execution_count": null,
   "id": "beb44436",
   "metadata": {},
   "outputs": [],
   "source": []
  },
  {
   "cell_type": "code",
   "execution_count": null,
   "id": "e058f592",
   "metadata": {},
   "outputs": [],
   "source": []
  },
  {
   "cell_type": "markdown",
   "id": "f6ebe502",
   "metadata": {},
   "source": [
    "**12. Write a short program that prints the numbers 1 to 10 using a for loop. Then write an equivalent \n",
    "program that prints the numbers 1 to 10 using a while loop.**"
   ]
  },
  {
   "cell_type": "code",
   "execution_count": 4,
   "id": "5247a79a",
   "metadata": {},
   "outputs": [
    {
     "name": "stdout",
     "output_type": "stream",
     "text": [
      "1\n",
      "2\n",
      "3\n",
      "4\n",
      "5\n",
      "6\n",
      "7\n",
      "8\n",
      "9\n",
      "10\n"
     ]
    }
   ],
   "source": [
    "for i in range(1,11):\n",
    "    print(i)"
   ]
  },
  {
   "cell_type": "code",
   "execution_count": 5,
   "id": "78df121d",
   "metadata": {},
   "outputs": [
    {
     "name": "stdout",
     "output_type": "stream",
     "text": [
      "1\n",
      "2\n",
      "3\n",
      "4\n",
      "5\n",
      "6\n",
      "7\n",
      "8\n",
      "9\n",
      "10\n"
     ]
    }
   ],
   "source": [
    "i = 1\n",
    "while i < 11:\n",
    "    print(i)\n",
    "    i = i+1"
   ]
  },
  {
   "cell_type": "code",
   "execution_count": null,
   "id": "a5d9129c",
   "metadata": {},
   "outputs": [],
   "source": []
  },
  {
   "cell_type": "code",
   "execution_count": null,
   "id": "f7e8a32b",
   "metadata": {},
   "outputs": [],
   "source": []
  },
  {
   "cell_type": "markdown",
   "id": "351d326b",
   "metadata": {},
   "source": [
    "**13. If you had a function named bacon() inside a module named spam, how would you call it after \n",
    "importing spam?**"
   ]
  },
  {
   "cell_type": "markdown",
   "id": "e948a9c8",
   "metadata": {},
   "source": [
    "`spam.bacon()`"
   ]
  },
  {
   "cell_type": "code",
   "execution_count": null,
   "id": "43edabad",
   "metadata": {},
   "outputs": [],
   "source": []
  },
  {
   "cell_type": "code",
   "execution_count": null,
   "id": "d62d0bbd",
   "metadata": {},
   "outputs": [],
   "source": []
  },
  {
   "cell_type": "code",
   "execution_count": null,
   "id": "3aa826c6",
   "metadata": {},
   "outputs": [],
   "source": []
  },
  {
   "cell_type": "code",
   "execution_count": null,
   "id": "98239998",
   "metadata": {},
   "outputs": [],
   "source": []
  },
  {
   "cell_type": "code",
   "execution_count": null,
   "id": "0414d104",
   "metadata": {},
   "outputs": [],
   "source": []
  },
  {
   "cell_type": "code",
   "execution_count": null,
   "id": "e948ff02",
   "metadata": {},
   "outputs": [],
   "source": []
  },
  {
   "cell_type": "code",
   "execution_count": null,
   "id": "68442560",
   "metadata": {},
   "outputs": [],
   "source": []
  },
  {
   "cell_type": "code",
   "execution_count": null,
   "id": "92d9c0ca",
   "metadata": {},
   "outputs": [],
   "source": []
  },
  {
   "cell_type": "code",
   "execution_count": null,
   "id": "0f14fa34",
   "metadata": {},
   "outputs": [],
   "source": []
  },
  {
   "cell_type": "code",
   "execution_count": null,
   "id": "06b26799",
   "metadata": {},
   "outputs": [],
   "source": []
  },
  {
   "cell_type": "code",
   "execution_count": null,
   "id": "a754ab47",
   "metadata": {},
   "outputs": [],
   "source": []
  }
 ],
 "metadata": {
  "kernelspec": {
   "display_name": "Python 3 (ipykernel)",
   "language": "python",
   "name": "python3"
  },
  "language_info": {
   "codemirror_mode": {
    "name": "ipython",
    "version": 3
   },
   "file_extension": ".py",
   "mimetype": "text/x-python",
   "name": "python",
   "nbconvert_exporter": "python",
   "pygments_lexer": "ipython3",
   "version": "3.10.7"
  }
 },
 "nbformat": 4,
 "nbformat_minor": 5
}
